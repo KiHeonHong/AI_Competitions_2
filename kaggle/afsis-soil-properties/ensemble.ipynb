{
 "cells": [
  {
   "cell_type": "code",
   "execution_count": null,
   "source": [
    "import numpy as np\n",
    "import pandas as pd\n",
    "from sklearn.pipeline import Pipeline\n",
    "from sklearn.linear_model import Ridge\n",
    "from sklearn.svm import SVR\n",
    "from sklearn.preprocessing import StandardScaler\n",
    "from sklearn.preprocessing import MinMaxScaler\n",
    "import tensorflow\n",
    "from tensorflow.keras.models import Sequential\n",
    "from tensorflow.keras.layers import Dense"
   ],
   "outputs": [],
   "metadata": {}
  },
  {
   "cell_type": "markdown",
   "source": [
    "# Ridge"
   ],
   "metadata": {}
  },
  {
   "cell_type": "code",
   "execution_count": null,
   "source": [
    "ALL_TARGETS = [\"Ca\", \"P\", \"pH\", \"SOC\", \"Sand\"]\n",
    "\n",
    "def read_data():\n",
    "    train = pd.read_csv(\"/home/daniel/kaggle/afsis-soil-properties/input/training.csv\")\n",
    "    test = pd.read_csv(\"/home/daniel/kaggle/afsis-soil-properties/input/sorted_test.csv\")\n",
    "    submission = pd.read_csv(\"/home/daniel/kaggle/afsis-soil-properties/input/sample_submission.csv\")\n",
    "    train, test = _preprocess(train, test)\n",
    "    return train, test, submission\n",
    "\n",
    "def _preprocess(train, test):\n",
    "    train.drop(\"PIDN\", axis=1, inplace=True)\n",
    "    test.drop(\"PIDN\", axis=1, inplace=True)\n",
    "    return train, test\n",
    "\n",
    "def make_test_set(test):\n",
    "    # Spectral features only\n",
    "    X_test = test.copy()\n",
    "    return X_test.iloc[:, :3578]\n",
    "\n",
    "def make_train_set(train, target):\n",
    "    X_train = train.copy()\n",
    "    X_train.drop(ALL_TARGETS, axis=1, inplace=True)\n",
    "    y_train = train[target]\n",
    "    # Spectral Features only\n",
    "    X_train = X_train.iloc[:, :3578]\n",
    "    return X_train, y_train\n",
    "\n",
    "def run_pipeline(scaler, X_train, y_train, X_test):\n",
    "    ridge_pipe = Pipeline([('Scaler', scaler), ('Ridge' , Ridge())])\n",
    "    ridge_pipe.fit(X_train, y_train)\n",
    "    return ridge_pipe.predict(X_test)\n",
    "\n",
    "if __name__ == \"__main__\":\n",
    "    #Defining the size of the grid\n",
    "    print(\"Starting loading data\")\n",
    "    train, test, submission = read_data()\n",
    "    print(\"Finished loading data\")\n",
    "    X_test = make_test_set(test)\n",
    "\n",
    "    predictions = {}\n",
    "\n",
    "    sub_minmax = submission.copy()\n",
    "    sub_standard = submission.copy()\n",
    "\n",
    "    for i in range(len(ALL_TARGETS)):\n",
    "        target = ALL_TARGETS[i]\n",
    "        print(f\"Target {target}\")\n",
    "\n",
    "        X_train, y_train = make_train_set(train, target)\n",
    "        if target == \"P\":\n",
    "            y_train = np.log(y_train+1)\n",
    "        ridge = Ridge()\n",
    "        ridge.fit(X_train, y_train)\n",
    "        predictions = ridge.predict(X_test)\n",
    "        if target == \"P\":\n",
    "            submission[target] = np.exp(predictions) - 1\n",
    "        else:\n",
    "            submission[target] = predictions\n",
    "        standard_scaler = StandardScaler()\n",
    "        minmax_scaler = MinMaxScaler()\n",
    "        \n",
    "        standard_predictions = run_pipeline(standard_scaler, X_train, y_train, X_test)\n",
    "        minmax_predictions = run_pipeline(minmax_scaler, X_train, y_train, X_test)\n",
    "\n",
    "        if target == \"P\":\n",
    "            sub_standard[target] = np.exp(standard_predictions) - 1\n",
    "            sub_minmax[target] = np.exp(minmax_predictions) - 1\n",
    "        else:\n",
    "            sub_standard[target] = standard_predictions\n",
    "            sub_minmax[target] = minmax_predictions        \n",
    "            \n",
    "    submission.to_csv(\"ridge_submission_logp.csv\", index=False)\n",
    "    sub_standard.to_csv(\"standard_ridge_submission_logp.csv\", index=False)\n",
    "    sub_minmax.to_csv(\"minmax_ridge_submission_logp.csv\", index=False)"
   ],
   "outputs": [],
   "metadata": {}
  },
  {
   "cell_type": "markdown",
   "source": [
    "# SVR"
   ],
   "metadata": {}
  },
  {
   "cell_type": "code",
   "execution_count": null,
   "source": [
    "if __name__ == \"__main__\":\n",
    "    #Defining the size of the grid\n",
    "    print(\"Starting loading data\")\n",
    "    train, test, submission = read_data()\n",
    "    print(\"Finished loading data\")\n",
    "    X_test = make_test_set(test)\n",
    "\n",
    "    predictions = {}\n",
    "\n",
    "    sub_minmax = submission.copy()\n",
    "    sub_standard = submission.copy()\n",
    "\n",
    "    for i in range(len(ALL_TARGETS)):\n",
    "        target = ALL_TARGETS[i]\n",
    "        print(f\"Target {target}\")\n",
    "\n",
    "        X_train, y_train = make_train_set(train, target)\n",
    "        svr = SVR(C=10000)\n",
    "        svr.fit(X_train, y_train)\n",
    "        predictions = svr.predict(X_test)\n",
    "        submission[target] = predictions\n",
    "    submission.to_csv(\"svr_submission.csv\", index=False)"
   ],
   "outputs": [],
   "metadata": {}
  },
  {
   "cell_type": "markdown",
   "source": [
    "# MLP"
   ],
   "metadata": {}
  },
  {
   "cell_type": "code",
   "execution_count": null,
   "source": [
    "tensorflow.random.set_seed(3)\n",
    "\n",
    "def make_model(input_shape):\n",
    "    # Create the model\n",
    "    model = Sequential()\n",
    "    model.add(Dense(512, input_shape=input_shape, activation='relu'))\n",
    "#     model.add(Dropout(0.05))\n",
    "    model.add(Dense(256, activation='relu'))\n",
    "#     model.add(Dropout(0.05))\n",
    "    model.add(Dense(1, activation='linear'))\n",
    "    # Configure the model and start training\n",
    "    model.compile(loss='mean_absolute_error', optimizer='adam', metrics=['mean_squared_error'])\n",
    "    return model\n",
    "\n",
    "\n",
    "#Defining the size of the grid\n",
    "print(\"Starting loading data\")\n",
    "train, test, submission = read_data()\n",
    "print(\"Finished loading data\")\n",
    "X_test = make_test_set(test)\n",
    "\n",
    "predictions = {}\n",
    "histories = {}\n",
    "\n",
    "for i in range(len(ALL_TARGETS)):\n",
    "    target = ALL_TARGETS[i]\n",
    "    print(f\"Target {target}\")\n",
    "    X_train, y_train = make_train_set(train, target)\n",
    "    input_shape = (X_train.shape[1], )\n",
    "    if target == \"P\":\n",
    "        y_train = np.log(y_train+1)\n",
    "    scaler = StandardScaler()\n",
    "    scaler.fit(X_train)\n",
    "    scaler.transform(X_train)\n",
    "    model = make_model(input_shape)\n",
    "    callback = tensorflow.keras.callbacks.EarlyStopping(monitor='loss', patience=50)\n",
    "    history = model.fit(X_train, y_train, epochs=500, batch_size=64,\n",
    "              verbose=1, validation_split=0.2, callbacks=[callback])\n",
    "    histories[target] = history\n",
    "    scaler.transform(X_test)\n",
    "    predictions = model.predict(X_test)\n",
    "    if target == \"P\":\n",
    "        submission[target] = np.exp(predictions) - 1\n",
    "    else:\n",
    "        submission[target] = predictions\n",
    "submission.to_csv(\"std_mlp_500epochs_L1-512_L2_256_bs64.csv\", index=False)"
   ],
   "outputs": [],
   "metadata": {}
  },
  {
   "cell_type": "markdown",
   "source": [
    "# Ensemble"
   ],
   "metadata": {}
  },
  {
   "cell_type": "code",
   "execution_count": null,
   "source": [
    "ALL_TARGETS = [\"Ca\", \"P\", \"pH\", \"SOC\", \"Sand\"]\n",
    "\n",
    "svr = pd.read_csv(\"svr_submission.csv\")\n",
    "ridge = pd.read_csv(\"standard_ridge_submission_logp.csv\")\n",
    "mlp = pd.read_csv(\"std_mlp_500epochs_L1-512_L2_256_bs64.csv\")\n",
    "# lgbm = pd.read_csv(\"tuned_lgbm_spectral_features_n_calls_500.csv\")"
   ],
   "outputs": [],
   "metadata": {}
  },
  {
   "cell_type": "code",
   "execution_count": null,
   "source": [
    "tmp = svr[ALL_TARGETS]*0.4 + ridge[ALL_TARGETS]*0.4 + mlp[ALL_TARGETS]*0.2\n",
    "sub = svr.copy()\n",
    "sub[ALL_TARGETS] = tmp[ALL_TARGETS]\n",
    "sub.to_csv(\"sub_ens-04svr+04ridge+02mlp.csv\", index=False)"
   ],
   "outputs": [],
   "metadata": {}
  }
 ],
 "metadata": {
  "orig_nbformat": 4,
  "language_info": {
   "name": "python",
   "version": "3.8.10",
   "mimetype": "text/x-python",
   "codemirror_mode": {
    "name": "ipython",
    "version": 3
   },
   "pygments_lexer": "ipython3",
   "nbconvert_exporter": "python",
   "file_extension": ".py"
  },
  "kernelspec": {
   "name": "python3",
   "display_name": "Python 3.8.10 64-bit ('kaggle_env': venv)"
  },
  "interpreter": {
   "hash": "a08591c38ea25fa2ec48c0dc32349ab6d452d3e2ddc25d0f83068c6731561b37"
  }
 },
 "nbformat": 4,
 "nbformat_minor": 2
}